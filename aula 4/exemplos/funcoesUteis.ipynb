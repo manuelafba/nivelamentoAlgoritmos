{
 "cells": [
  {
   "attachments": {},
   "cell_type": "markdown",
   "metadata": {},
   "source": [
    "## append() - adiciona um item no fim da lista"
   ]
  },
  {
   "cell_type": "code",
   "execution_count": 7,
   "metadata": {},
   "outputs": [
    {
     "name": "stdout",
     "output_type": "stream",
     "text": [
      "['Morango', 'Banana', 'Uva', 'Maracujá', 'Abacate']\n"
     ]
    }
   ],
   "source": [
    "frutas = [\"Morango\", \"Banana\", \"Uva\", \"Maracujá\"]\n",
    "frutas.append(\"Abacate\")\n",
    "print(frutas)"
   ]
  },
  {
   "attachments": {},
   "cell_type": "markdown",
   "metadata": {},
   "source": [
    "## insert() - adiciona um item em uma posição específica"
   ]
  },
  {
   "cell_type": "code",
   "execution_count": 8,
   "metadata": {},
   "outputs": [
    {
     "name": "stdout",
     "output_type": "stream",
     "text": [
      "['Brigadeiro', 'Pudim', 'Sorvete', 'Bolo']\n"
     ]
    }
   ],
   "source": [
    "doces = [\"Brigadeiro\", \"Pudim\", \"Bolo\"]\n",
    "doces.insert(2, \"Sorvete\") # Inserir \"Sorvete\" na posição 2\n",
    "print(doces)"
   ]
  },
  {
   "attachments": {},
   "cell_type": "markdown",
   "metadata": {},
   "source": [
    "## pop() - remove um item do final da lista"
   ]
  },
  {
   "cell_type": "code",
   "execution_count": 9,
   "metadata": {},
   "outputs": [
    {
     "name": "stdout",
     "output_type": "stream",
     "text": [
      "['Python', 'C++', 'Javascript']\n"
     ]
    }
   ],
   "source": [
    "linguagens = [\"Python\", \"C++\", \"Javascript\", \"Java\"]\n",
    "linguagens.pop()\n",
    "print(linguagens)"
   ]
  },
  {
   "attachments": {},
   "cell_type": "markdown",
   "metadata": {},
   "source": [
    "## remove() - remove um item da lista"
   ]
  },
  {
   "cell_type": "code",
   "execution_count": 10,
   "metadata": {},
   "outputs": [
    {
     "name": "stdout",
     "output_type": "stream",
     "text": [
      "['Minecraft', 'Valorant', 'Zelda']\n"
     ]
    }
   ],
   "source": [
    "jogos = [\"Minecraft\", \"Valorant\", \"LOL\", \"Zelda\"]\n",
    "jogos.remove(\"LOL\")\n",
    "print(jogos)"
   ]
  },
  {
   "attachments": {},
   "cell_type": "markdown",
   "metadata": {},
   "source": [
    "## sort() - ordena a lista em ordem crescente"
   ]
  },
  {
   "cell_type": "code",
   "execution_count": 11,
   "metadata": {},
   "outputs": [
    {
     "name": "stdout",
     "output_type": "stream",
     "text": [
      "[1, 2, 3, 4, 5, 5, 7, 8, 9, 10]\n"
     ]
    }
   ],
   "source": [
    "numeros = [5, 8, 10, 3, 2, 5, 9, 7, 1, 4]\n",
    "numeros.sort()\n",
    "print(numeros)"
   ]
  },
  {
   "attachments": {},
   "cell_type": "markdown",
   "metadata": {},
   "source": [
    "## max() e min() - mostram o maior e o menor valor da lista"
   ]
  },
  {
   "cell_type": "code",
   "execution_count": 12,
   "metadata": {},
   "outputs": [
    {
     "name": "stdout",
     "output_type": "stream",
     "text": [
      "10\n",
      "1\n"
     ]
    }
   ],
   "source": [
    "numeros = [5, 8, 10, 3, 2, 5, 9, 7, 1, 4]\n",
    "print(max(numeros))\n",
    "print(min(numeros))"
   ]
  },
  {
   "attachments": {},
   "cell_type": "markdown",
   "metadata": {},
   "source": [
    "## len() - retorna o tamanho da lista"
   ]
  },
  {
   "cell_type": "code",
   "execution_count": 13,
   "metadata": {},
   "outputs": [
    {
     "name": "stdout",
     "output_type": "stream",
     "text": [
      "5\n"
     ]
    }
   ],
   "source": [
    "cores = (\"vermelho\", \"azul\", \"verde\", \"amarelo\", \"roxo\")\n",
    "print(len(cores))"
   ]
  },
  {
   "attachments": {},
   "cell_type": "markdown",
   "metadata": {},
   "source": [
    "## sum() - soma todos os elementos da lista"
   ]
  },
  {
   "cell_type": "code",
   "execution_count": 14,
   "metadata": {},
   "outputs": [
    {
     "name": "stdout",
     "output_type": "stream",
     "text": [
      "15\n"
     ]
    }
   ],
   "source": [
    "numeros = (1, 2, 3, 4, 5)\n",
    "print(sum(numeros))"
   ]
  }
 ],
 "metadata": {
  "kernelspec": {
   "display_name": "Python 3",
   "language": "python",
   "name": "python3"
  },
  "language_info": {
   "codemirror_mode": {
    "name": "ipython",
    "version": 3
   },
   "file_extension": ".py",
   "mimetype": "text/x-python",
   "name": "python",
   "nbconvert_exporter": "python",
   "pygments_lexer": "ipython3",
   "version": "3.11.8"
  },
  "vscode": {
   "interpreter": {
    "hash": "7c11e252e9e297ad7afcf0dd37a7160fea22ca9680b4dce8452c9fc252609a1a"
   }
  }
 },
 "nbformat": 4,
 "nbformat_minor": 2
}
